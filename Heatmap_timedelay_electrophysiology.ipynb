{
 "cells": [
  {
   "cell_type": "code",
   "execution_count": 1,
   "metadata": {},
   "outputs": [],
   "source": [
    "import pandas as pd\n"
   ]
  },
  {
   "cell_type": "code",
   "execution_count": 2,
   "metadata": {},
   "outputs": [
    {
     "data": {
      "text/html": [
       "<div>\n",
       "<style scoped>\n",
       "    .dataframe tbody tr th:only-of-type {\n",
       "        vertical-align: middle;\n",
       "    }\n",
       "\n",
       "    .dataframe tbody tr th {\n",
       "        vertical-align: top;\n",
       "    }\n",
       "\n",
       "    .dataframe thead th {\n",
       "        text-align: right;\n",
       "    }\n",
       "</style>\n",
       "<table border=\"1\" class=\"dataframe\">\n",
       "  <thead>\n",
       "    <tr style=\"text-align: right;\">\n",
       "      <th></th>\n",
       "      <th>time.1</th>\n",
       "      <th>channel4.1</th>\n",
       "      <th>channel3.1</th>\n",
       "      <th>channel2.1</th>\n",
       "      <th>channel1.1</th>\n",
       "    </tr>\n",
       "  </thead>\n",
       "  <tbody>\n",
       "    <tr>\n",
       "      <th>0</th>\n",
       "      <td>22.20</td>\n",
       "      <td>0.14</td>\n",
       "      <td>0.08</td>\n",
       "      <td>0</td>\n",
       "      <td>0.09</td>\n",
       "    </tr>\n",
       "    <tr>\n",
       "      <th>1</th>\n",
       "      <td>77.07</td>\n",
       "      <td>0.22</td>\n",
       "      <td>0.17</td>\n",
       "      <td>0</td>\n",
       "      <td>0.15</td>\n",
       "    </tr>\n",
       "    <tr>\n",
       "      <th>2</th>\n",
       "      <td>125.76</td>\n",
       "      <td>0.24</td>\n",
       "      <td>0.08</td>\n",
       "      <td>0</td>\n",
       "      <td>0.14</td>\n",
       "    </tr>\n",
       "    <tr>\n",
       "      <th>3</th>\n",
       "      <td>201.02</td>\n",
       "      <td>0.11</td>\n",
       "      <td>0.05</td>\n",
       "      <td>0</td>\n",
       "      <td>0.09</td>\n",
       "    </tr>\n",
       "    <tr>\n",
       "      <th>4</th>\n",
       "      <td>257.70</td>\n",
       "      <td>0.10</td>\n",
       "      <td>0.03</td>\n",
       "      <td>0</td>\n",
       "      <td>0.25</td>\n",
       "    </tr>\n",
       "    <tr>\n",
       "      <th>5</th>\n",
       "      <td>284.73</td>\n",
       "      <td>0.24</td>\n",
       "      <td>0.07</td>\n",
       "      <td>0</td>\n",
       "      <td>0.29</td>\n",
       "    </tr>\n",
       "    <tr>\n",
       "      <th>6</th>\n",
       "      <td>302.07</td>\n",
       "      <td>0.03</td>\n",
       "      <td>0.01</td>\n",
       "      <td>0</td>\n",
       "      <td>0.03</td>\n",
       "    </tr>\n",
       "    <tr>\n",
       "      <th>7</th>\n",
       "      <td>308.61</td>\n",
       "      <td>0.38</td>\n",
       "      <td>0.10</td>\n",
       "      <td>0</td>\n",
       "      <td>0.43</td>\n",
       "    </tr>\n",
       "    <tr>\n",
       "      <th>8</th>\n",
       "      <td>319.62</td>\n",
       "      <td>0.38</td>\n",
       "      <td>0.14</td>\n",
       "      <td>0</td>\n",
       "      <td>0.24</td>\n",
       "    </tr>\n",
       "    <tr>\n",
       "      <th>9</th>\n",
       "      <td>408.12</td>\n",
       "      <td>0.06</td>\n",
       "      <td>0.02</td>\n",
       "      <td>0</td>\n",
       "      <td>0.02</td>\n",
       "    </tr>\n",
       "    <tr>\n",
       "      <th>10</th>\n",
       "      <td>424.82</td>\n",
       "      <td>0.16</td>\n",
       "      <td>0.07</td>\n",
       "      <td>0</td>\n",
       "      <td>0.11</td>\n",
       "    </tr>\n",
       "    <tr>\n",
       "      <th>11</th>\n",
       "      <td>441.72</td>\n",
       "      <td>0.06</td>\n",
       "      <td>0.03</td>\n",
       "      <td>0</td>\n",
       "      <td>0.05</td>\n",
       "    </tr>\n",
       "    <tr>\n",
       "      <th>12</th>\n",
       "      <td>543.19</td>\n",
       "      <td>0.13</td>\n",
       "      <td>0.09</td>\n",
       "      <td>0</td>\n",
       "      <td>0.12</td>\n",
       "    </tr>\n",
       "  </tbody>\n",
       "</table>\n",
       "</div>"
      ],
      "text/plain": [
       "    time.1  channel4.1  channel3.1  channel2.1  channel1.1\n",
       "0    22.20        0.14        0.08           0        0.09\n",
       "1    77.07        0.22        0.17           0        0.15\n",
       "2   125.76        0.24        0.08           0        0.14\n",
       "3   201.02        0.11        0.05           0        0.09\n",
       "4   257.70        0.10        0.03           0        0.25\n",
       "5   284.73        0.24        0.07           0        0.29\n",
       "6   302.07        0.03        0.01           0        0.03\n",
       "7   308.61        0.38        0.10           0        0.43\n",
       "8   319.62        0.38        0.14           0        0.24\n",
       "9   408.12        0.06        0.02           0        0.02\n",
       "10  424.82        0.16        0.07           0        0.11\n",
       "11  441.72        0.06        0.03           0        0.05\n",
       "12  543.19        0.13        0.09           0        0.12"
      ]
     },
     "execution_count": 2,
     "metadata": {},
     "output_type": "execute_result"
    }
   ],
   "source": [
    "time_delay = pd.read_excel('/Users/tangxin/Downloads/stage20propogation/propogation_plot.xlsx')\n",
    "time_delay"
   ]
  },
  {
   "cell_type": "code",
   "execution_count": 12,
   "metadata": {},
   "outputs": [
    {
     "data": {
      "image/png": "[encoded data removed]",
      "text/plain": [
       "<Figure size 1440x360 with 13 Axes>"
      ]
     },
     "metadata": {},
     "output_type": "display_data"
    }
   ],
   "source": [
    "import matplotlib.pyplot as plt\n",
    "import seaborn as sns\n",
    "import numpy as np\n",
    "from sklearn.preprocessing import normalize\n",
    "fig,axs=plt.subplots(1,13,figsize=(20,5))\n",
    "i=0\n",
    "for index, row in time_delay.iterrows():\n",
    "    if type(row['channel1.1'])==np.float64:\n",
    "#         plt.figure()\n",
    "        time_delay_vec = np.array([row['channel1.1'], row['channel2.1'],\n",
    "                    row['channel3.1'], row['channel4.1']])\n",
    "#         time_delay_norm = time_delay_vec / np.linalg.norm(time_delay_vec)\n",
    "        time_delay_norm = time_delay_vec#(time_delay_vec-min(time_delay_vec))/(max(time_delay_vec)-min(time_delay_vec))\n",
    "\n",
    "        sns.heatmap([[time_delay_norm[0], time_delay_norm[3]],\n",
    "                    [time_delay_norm[1], time_delay_norm[2]]]\n",
    "                   ,cmap=\"coolwarm_r\",cbar=False,ax=axs[i],vmin=0,vmax=0.38)\n",
    "        axs[i].set_title(row['time.1'])\n",
    "        axs[i].set_xticks([])\n",
    "        axs[i].set_yticks([])\n",
    "        i=i+1\n",
    "plt.savefig('./time_delay_channal_geomatry_compact_v2.pdf')"
   ]
  },
  {
   "cell_type": "code",
   "execution_count": 10,
   "metadata": {},
   "outputs": [
    {
     "data": {
      "text/plain": [
       "True"
      ]
     },
     "execution_count": 10,
     "metadata": {},
     "output_type": "execute_result"
    }
   ],
   "source": [
    "type(row['channel1.1'])==np.float64"
   ]
  },
  {
   "cell_type": "code",
   "execution_count": 16,
   "metadata": {},
   "outputs": [
    {
     "data": {
      "image/png": "[encoded data removed]",
      "text/plain": [
       "<Figure size 1440x360 with 24 Axes>"
      ]
     },
     "metadata": {
      "needs_background": "light"
     },
     "output_type": "display_data"
    }
   ],
   "source": [
    "\n",
    "fig,axs=plt.subplots(1,12,figsize=(20,5))\n",
    "i=0\n",
    "for index, row in time_delay.iterrows():\n",
    "    if type(row['channel1.1'])==float:\n",
    "#         plt.figure()\n",
    "        time_delay_vec = np.array([row['channel1.1'], row['channel2.1'],\n",
    "                    row['channel3.1'], row['channel4.1']])\n",
    "#         time_delay_norm = time_delay_vec / np.linalg.norm(time_delay_vec)\n",
    "        time_delay_norm = time_delay_vec#(time_delay_vec-min(time_delay_vec))/(max(time_delay_vec)-min(time_delay_vec))\n",
    "\n",
    "        sns.heatmap([[time_delay_norm[0], time_delay_norm[3]],\n",
    "                    [time_delay_norm[1], time_delay_norm[2]]]\n",
    "                   ,cmap=\"coolwarm_r\",cbar=True,ax=axs[i],vmin=-0.3,vmax=1.4)\n",
    "        axs[i].set_title(row['time.1'])\n",
    "        axs[i].set_xticks([])\n",
    "        axs[i].set_yticks([])\n",
    "        i=i+1\n",
    "plt.savefig('./time_delay_channal_geomatry_compact_with_bar.pdf')"
   ]
  },
  {
   "cell_type": "code",
   "execution_count": 3,
   "metadata": {},
   "outputs": [
    {
     "data": {
      "image/png": "[encoded data removed]",
      "text/plain": [
       "<Figure size 1440x360 with 13 Axes>"
      ]
     },
     "metadata": {},
     "output_type": "display_data"
    }
   ],
   "source": [
    "import matplotlib.pyplot as plt\n",
    "import seaborn as sns\n",
    "import numpy as np\n",
    "from sklearn.preprocessing import normalize\n",
    "fig,axs=plt.subplots(1,13,figsize=(20,5))\n",
    "i=0\n",
    "for index, row in time_delay.iterrows():\n",
    "    if type(row['channel1.1'])==np.float64:\n",
    "#         plt.figure()\n",
    "        time_delay_vec = np.array([row['channel1.1'], row['channel2.1'],\n",
    "                    row['channel3.1'], row['channel4.1']])\n",
    "#         time_delay_norm = time_delay_vec / np.linalg.norm(time_delay_vec)\n",
    "        time_delay_norm = time_delay_vec#(time_delay_vec-min(time_delay_vec))/(max(time_delay_vec)-min(time_delay_vec))\n",
    "\n",
    "        sns.heatmap([[np.nan,np.nan,np.nan,time_delay_norm[3]],\n",
    "                    [time_delay_norm[0], np.nan,np.nan,np.nan],\n",
    "                     [np.nan,np.nan,time_delay_norm[2],np.nan],\n",
    "                    [np.nan,time_delay_norm[1], np.nan,np.nan]]\n",
    "                   ,cmap=\"coolwarm_r\",cbar=False,ax=axs[i],vmin=0,vmax=0.38)\n",
    "        axs[i].set_title(row['time.1'])\n",
    "        axs[i].set_xticks([])\n",
    "        axs[i].set_yticks([])\n",
    "        i=i+1\n",
    "plt.savefig('./time_delay_channal_geomatry.pdf')"
   ]
  },
  {
   "cell_type": "code",
   "execution_count": 4,
   "metadata": {},
   "outputs": [
    {
     "data": {
      "image/png": "[encoded data removed]",
      "text/plain": [
       "<Figure size 1440x360 with 13 Axes>"
      ]
     },
     "metadata": {},
     "output_type": "display_data"
    }
   ],
   "source": [
    "import matplotlib.pyplot as plt\n",
    "import seaborn as sns\n",
    "import numpy as np\n",
    "from sklearn.preprocessing import normalize\n",
    "fig,axs=plt.subplots(1,13,figsize=(20,5))\n",
    "i=0\n",
    "for index, row in time_delay.iterrows():\n",
    "    if type(row['channel1.1'])==np.float64:\n",
    "#         plt.figure()\n",
    "        time_delay_vec = np.array([row['channel4.1'], row['channel3.1'],\n",
    "                    row['channel2.1'], row['channel1.1']])\n",
    "#         time_delay_norm = time_delay_vec / np.linalg.norm(time_delay_vec)\n",
    "        time_delay_norm = time_delay_vec#(time_delay_vec-min(time_delay_vec))/(max(time_delay_vec)-min(time_delay_vec))\n",
    "\n",
    "        sns.heatmap([[np.nan,np.nan,np.nan,time_delay_norm[3]],\n",
    "                    [time_delay_norm[0], np.nan,np.nan,np.nan],\n",
    "                     [np.nan,np.nan,time_delay_norm[2],np.nan],\n",
    "                    [np.nan,time_delay_norm[1], np.nan,np.nan]]\n",
    "                   ,cmap=\"coolwarm_r\",cbar=False,ax=axs[i],vmin=0,vmax=0.38)\n",
    "        axs[i].set_title(row['time.1'])\n",
    "        axs[i].set_xticks([])\n",
    "        axs[i].set_yticks([])\n",
    "        i=i+1\n",
    "plt.savefig('./time_delay_channal_geomatry_inverse.pdf')"
   ]
  },
  {
   "cell_type": "code",
   "execution_count": 18,
   "metadata": {},
   "outputs": [
    {
     "data": {
      "image/png": "[encoded data removed]",
      "text/plain": [
       "<Figure size 1440x360 with 24 Axes>"
      ]
     },
     "metadata": {
      "needs_background": "light"
     },
     "output_type": "display_data"
    }
   ],
   "source": [
    "import matplotlib.pyplot as plt\n",
    "import seaborn as sns\n",
    "import numpy as np\n",
    "from sklearn.preprocessing import normalize\n",
    "fig,axs=plt.subplots(1,12,figsize=(20,5))\n",
    "i=0\n",
    "for index, row in time_delay.iterrows():\n",
    "    if type(row['channel1.1'])==float:\n",
    "#         plt.figure()\n",
    "        time_delay_vec = np.array([row['channel1.1'], row['channel2.1'],\n",
    "                    row['channel3.1'], row['channel4.1']])\n",
    "#         time_delay_norm = time_delay_vec / np.linalg.norm(time_delay_vec)\n",
    "        time_delay_norm = time_delay_vec#(time_delay_vec-min(time_delay_vec))/(max(time_delay_vec)-min(time_delay_vec))\n",
    "        sns.heatmap([[np.nan,np.nan,np.nan,time_delay_norm[3]],\n",
    "                    [time_delay_norm[0], np.nan,np.nan,np.nan],\n",
    "                     [np.nan,np.nan,time_delay_norm[2],np.nan],\n",
    "                    [np.nan,time_delay_norm[1], np.nan,np.nan]]\n",
    "                   ,cmap=\"coolwarm_r\",cbar=True,ax=axs[i],vmin=-0.3,vmax=1.4)\n",
    "        axs[i].set_title(row['time.1'])\n",
    "        axs[i].set_xticks([])\n",
    "        axs[i].set_yticks([])\n",
    "        i=i+1\n",
    "plt.savefig('./time_delay_channal_geomatry_with_bar.pdf')"
   ]
  },
  {
   "cell_type": "code",
   "execution_count": 19,
   "metadata": {},
   "outputs": [
    {
     "data": {
      "text/plain": [
       "'/Users/tangxin/Dropbox(HarvardUniversity)/Harvard_research&course/ElectroSeq/SupplementaryExperiment'"
      ]
     },
     "execution_count": 19,
     "metadata": {},
     "output_type": "execute_result"
    }
   ],
   "source": [
    "pwd"
   ]
  },
  {
   "cell_type": "code",
   "execution_count": 5,
   "metadata": {},
   "outputs": [],
   "source": [
    "import sys\n",
    "sys.path.append('../Ephys/util')\n",
    "from widgets import read_ns4datafile"
   ]
  },
  {
   "cell_type": "code",
   "execution_count": 6,
   "metadata": {},
   "outputs": [
    {
     "name": "stdout",
     "output_type": "stream",
     "text": [
      "\n",
      "0-550s_04092021_11 am_S11_D2_propogation.ns4 opened\n",
      "\n",
      "0-550s_04092021_11 am_S11_D2_propogation.ns4 closed\n"
     ]
    }
   ],
   "source": [
    "rec_ns4 = read_ns4datafile('/Users/tangxin/Downloads/stage20propogation/0-550s_04092021_11 am_S11_D2_propogation.ns4')[0]\n",
    "target_out = rec_ns4['data'][:,:550*10000]\n",
    "\n"
   ]
  },
  {
   "cell_type": "code",
   "execution_count": 8,
   "metadata": {},
   "outputs": [
    {
     "data": {
      "text/plain": [
       "(4, 55000)"
      ]
     },
     "execution_count": 8,
     "metadata": {},
     "output_type": "execute_result"
    }
   ],
   "source": []
  },
  {
   "cell_type": "code",
   "execution_count": 9,
   "metadata": {},
   "outputs": [],
   "source": [
    "\n",
    "target_out = target_out[:,::100]"
   ]
  },
  {
   "cell_type": "code",
   "execution_count": 10,
   "metadata": {},
   "outputs": [
    {
     "data": {
      "text/plain": [
       "(4, 55000)"
      ]
     },
     "execution_count": 10,
     "metadata": {},
     "output_type": "execute_result"
    }
   ],
   "source": [
    "target_out.shape"
   ]
  },
  {
   "cell_type": "code",
   "execution_count": 11,
   "metadata": {},
   "outputs": [
    {
     "data": {
      "text/html": [
       "<div>\n",
       "<style scoped>\n",
       "    .dataframe tbody tr th:only-of-type {\n",
       "        vertical-align: middle;\n",
       "    }\n",
       "\n",
       "    .dataframe tbody tr th {\n",
       "        vertical-align: top;\n",
       "    }\n",
       "\n",
       "    .dataframe thead th {\n",
       "        text-align: right;\n",
       "    }\n",
       "</style>\n",
       "<table border=\"1\" class=\"dataframe\">\n",
       "  <thead>\n",
       "    <tr style=\"text-align: right;\">\n",
       "      <th></th>\n",
       "      <th>0</th>\n",
       "      <th>1</th>\n",
       "      <th>2</th>\n",
       "      <th>3</th>\n",
       "    </tr>\n",
       "  </thead>\n",
       "  <tbody>\n",
       "    <tr>\n",
       "      <th>0</th>\n",
       "      <td>153.75</td>\n",
       "      <td>248.50</td>\n",
       "      <td>270.50</td>\n",
       "      <td>158.50</td>\n",
       "    </tr>\n",
       "    <tr>\n",
       "      <th>1</th>\n",
       "      <td>116.25</td>\n",
       "      <td>222.25</td>\n",
       "      <td>240.50</td>\n",
       "      <td>129.75</td>\n",
       "    </tr>\n",
       "    <tr>\n",
       "      <th>2</th>\n",
       "      <td>132.50</td>\n",
       "      <td>223.00</td>\n",
       "      <td>237.25</td>\n",
       "      <td>144.25</td>\n",
       "    </tr>\n",
       "    <tr>\n",
       "      <th>3</th>\n",
       "      <td>114.50</td>\n",
       "      <td>210.75</td>\n",
       "      <td>220.75</td>\n",
       "      <td>134.75</td>\n",
       "    </tr>\n",
       "    <tr>\n",
       "      <th>4</th>\n",
       "      <td>153.50</td>\n",
       "      <td>254.75</td>\n",
       "      <td>266.00</td>\n",
       "      <td>150.50</td>\n",
       "    </tr>\n",
       "    <tr>\n",
       "      <th>...</th>\n",
       "      <td>...</td>\n",
       "      <td>...</td>\n",
       "      <td>...</td>\n",
       "      <td>...</td>\n",
       "    </tr>\n",
       "    <tr>\n",
       "      <th>54995</th>\n",
       "      <td>30.75</td>\n",
       "      <td>-45.25</td>\n",
       "      <td>29.75</td>\n",
       "      <td>-152.75</td>\n",
       "    </tr>\n",
       "    <tr>\n",
       "      <th>54996</th>\n",
       "      <td>9.50</td>\n",
       "      <td>-60.75</td>\n",
       "      <td>7.75</td>\n",
       "      <td>-198.00</td>\n",
       "    </tr>\n",
       "    <tr>\n",
       "      <th>54997</th>\n",
       "      <td>43.75</td>\n",
       "      <td>-34.25</td>\n",
       "      <td>44.00</td>\n",
       "      <td>-142.25</td>\n",
       "    </tr>\n",
       "    <tr>\n",
       "      <th>54998</th>\n",
       "      <td>54.25</td>\n",
       "      <td>-25.75</td>\n",
       "      <td>46.25</td>\n",
       "      <td>-105.25</td>\n",
       "    </tr>\n",
       "    <tr>\n",
       "      <th>54999</th>\n",
       "      <td>24.00</td>\n",
       "      <td>-64.25</td>\n",
       "      <td>11.50</td>\n",
       "      <td>-96.25</td>\n",
       "    </tr>\n",
       "  </tbody>\n",
       "</table>\n",
       "<p>55000 rows × 4 columns</p>\n",
       "</div>"
      ],
      "text/plain": [
       "            0       1       2       3\n",
       "0      153.75  248.50  270.50  158.50\n",
       "1      116.25  222.25  240.50  129.75\n",
       "2      132.50  223.00  237.25  144.25\n",
       "3      114.50  210.75  220.75  134.75\n",
       "4      153.50  254.75  266.00  150.50\n",
       "...       ...     ...     ...     ...\n",
       "54995   30.75  -45.25   29.75 -152.75\n",
       "54996    9.50  -60.75    7.75 -198.00\n",
       "54997   43.75  -34.25   44.00 -142.25\n",
       "54998   54.25  -25.75   46.25 -105.25\n",
       "54999   24.00  -64.25   11.50  -96.25\n",
       "\n",
       "[55000 rows x 4 columns]"
      ]
     },
     "execution_count": 11,
     "metadata": {},
     "output_type": "execute_result"
    }
   ],
   "source": [
    "# amplitude = pd.read_excel('/Users/tangxin/Downloads/07242021-4pm-s4-002-100resample.xlsx',header=None)\n",
    "# amplitude\n",
    "amplitude = pd.DataFrame(target_out.T)\n",
    "amplitude"
   ]
  },
  {
   "cell_type": "code",
   "execution_count": null,
   "metadata": {},
   "outputs": [],
   "source": []
  },
  {
   "cell_type": "code",
   "execution_count": 12,
   "metadata": {},
   "outputs": [
    {
     "name": "stdout",
     "output_type": "stream",
     "text": [
      "0\n",
      "1\n",
      "2\n",
      "3\n"
     ]
    },
    {
     "data": {
      "text/plain": [
       "<Figure size 720x72 with 0 Axes>"
      ]
     },
     "metadata": {},
     "output_type": "display_data"
    }
   ],
   "source": [
    "# fig,axs=plt.subplots(1,12,figsize=(20,5))\n",
    "plt.figure(figsize=[10,1])\n",
    "i=0\n",
    "for col in amplitude.keys():\n",
    "    print(col)\n",
    "    amplitude[col] = (amplitude[col] - min(amplitude[col]))/(max(amplitude[col])-min(amplitude[col]))\n",
    "#     (time_delay_vec-min(time_delay_vec))/(max(time_delay_vec)-min(time_delay_vec))\n",
    "# sns.heatmap(data=amplitude.T,cmap=\"jet\",cbar=True)\n",
    "# plt.savefig('./time_delay_channal_geomatry_compact.pdf')"
   ]
  },
  {
   "cell_type": "code",
   "execution_count": 13,
   "metadata": {},
   "outputs": [
    {
     "data": {
      "image/png": "[encoded data removed]",
      "text/plain": [
       "<Figure size 720x72 with 2 Axes>"
      ]
     },
     "metadata": {
      "needs_background": "light"
     },
     "output_type": "display_data"
    }
   ],
   "source": [
    "plt.figure(figsize=[10,1])\n",
    "sns.heatmap(data=amplitude.T,cmap=\"jet\",cbar=True)\n",
    "plt.xticks([])\n",
    "# plt.yticks([])\n",
    "plt.savefig('./amplitute_heatmap.pdf')"
   ]
  },
  {
   "cell_type": "code",
   "execution_count": null,
   "metadata": {},
   "outputs": [],
   "source": []
  }
 ],
 "metadata": {
  "kernelspec": {
   "display_name": "Python 3",
   "language": "python",
   "name": "python3"
  },
  "language_info": {
   "codemirror_mode": {
    "name": "ipython",
    "version": 3
   },
   "file_extension": ".py",
   "mimetype": "text/x-python",
   "name": "python",
   "nbconvert_exporter": "python",
   "pygments_lexer": "ipython3",
   "version": "3.8.5"
  }
 },
 "nbformat": 4,
 "nbformat_minor": 4
}
